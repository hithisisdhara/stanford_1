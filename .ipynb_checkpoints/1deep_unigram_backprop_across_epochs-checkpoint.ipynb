{
 "cells": [
  {
   "cell_type": "code",
   "execution_count": 1,
   "metadata": {
    "collapsed": true
   },
   "outputs": [],
   "source": [
    "# first read the models \n",
    "import torch\n",
    "import torch.autograd as autograd\n",
    "import torch.nn as nn\n",
    "import torch.nn.functional as F\n",
    "import torch.optim as optim\n",
    "import data_loader\n",
    "import os\n",
    "import codecs\n",
    "import random\n",
    "import copy\n",
    "import matplotlib.pyplot as plt\n",
    "#plt.rcParams[\"figure.figsize\"] = [8, 10]\n",
    "import numpy as np\n",
    "from collections import defaultdict \n",
    "torch.set_num_threads(8)\n",
    "torch.manual_seed(1)\n",
    "random.seed(1)"
   ]
  },
  {
   "cell_type": "code",
   "execution_count": 2,
   "metadata": {
    "collapsed": true
   },
   "outputs": [],
   "source": [
    "nitrofilepath = './best_models/'\n",
    "model_names = ['bilstm_best_model_acc_9315.model',\n",
    "               'bilstm_best_model_acc_9573.model',\n",
    "              'bilstm_best_model_acc_9604.model']"
   ]
  },
  {
   "cell_type": "code",
   "execution_count": 11,
   "metadata": {
    "collapsed": false
   },
   "outputs": [
    {
     "name": "stdout",
     "output_type": "stream",
     "text": [
      "('train:', 25667, 'dev:', 292, 'test:', 657)\n",
      "26616\n",
      "('vocab size:', 14378, 'label size:', 2)\n",
      "loading data done!\n"
     ]
    }
   ],
   "source": [
    "# First load the data, don't change this \n",
    "# -*- coding: utf-8 -*-\n",
    "import torch\n",
    "import torch.autograd as autograd\n",
    "import torch.nn as nn\n",
    "import torch.nn.functional as F\n",
    "import torch.optim as optim\n",
    "import os\n",
    "import random\n",
    "torch.set_num_threads(8)\n",
    "import sys\n",
    "import codecs\n",
    "import random\n",
    "import torch.utils.data as Data\n",
    "import copy\n",
    "\n",
    "SEED = 1\n",
    "random.seed(SEED)\n",
    "\n",
    "\n",
    "# input: a sequence of tokens, and a token_to_index dictionary\n",
    "# output: a LongTensor variable to encode the sequence of idxs\n",
    "def prepare_sequence(seq, to_ix, cuda=False):\n",
    "    var = autograd.Variable(torch.LongTensor([to_ix[w] for w in seq.split(' ')]))\n",
    "    return var\n",
    "\n",
    "def prepare_label(label,label_to_ix, cuda=False):\n",
    "    var = autograd.Variable(torch.LongTensor([label_to_ix[label]]))\n",
    "    return var\n",
    "\n",
    "def build_token_to_ix(sentences):\n",
    "    token_to_ix = dict()\n",
    "    print(len(sentences))\n",
    "    for sent in sentences:\n",
    "        for token in sent.split(' '):\n",
    "            if token not in token_to_ix:\n",
    "                token_to_ix[token] = len(token_to_ix)\n",
    "    token_to_ix['<pad>'] = len(token_to_ix)\n",
    "    return token_to_ix\n",
    "\n",
    "def build_label_to_ix(labels):\n",
    "    label_to_ix = dict()\n",
    "    for label in labels:\n",
    "        if label not in label_to_ix:\n",
    "            label_to_ix[label] = len(label_to_ix)\n",
    "\n",
    "\n",
    "def get_all_files_from_dir(dirpath):\n",
    "    from os import listdir\n",
    "    from os.path import isfile, join\n",
    "    onlyfiles = [f for f in listdir(dirpath) if isfile(join(dirpath, f))]\n",
    "    return onlyfiles\n",
    "\n",
    "def head_n(fname, n=2):\n",
    "    count = 1\n",
    "    print ('---------------------------------------')\n",
    "    f = open(fname)\n",
    "    for line in f:\n",
    "        print (line)\n",
    "        count += 1\n",
    "        if count > n:\n",
    "            print ('-----------------------------------')\n",
    "            f.close()\n",
    "            return\n",
    "#head_n(test_file_pos,10)\n",
    "#thos function would only extract vp and vn files, in order to extract vpn = vp+vn in one file, give last arguement as False/0 \n",
    "\n",
    "def extract_names(l_files,patt,p_xor_n = True):\n",
    "    # note that you may need to \n",
    "    r = []\n",
    "    for f in l_files:\n",
    "        tokens = f.split(\".\")\n",
    "        if tokens[-3]==patt:\n",
    "            if p_xor_n:\n",
    "                if tokens[-2] != 'vpn':\n",
    "                    r.append(f)\n",
    "                    #yield f\n",
    "            elif tokens[-2] == 'vpn':\n",
    "                return f\n",
    "    return sorted(r)\n",
    "#extract_names(files,'test')\n",
    "def get_sentence_out(path):\n",
    "    f = open(path)\n",
    "    return map(lambda x:x.split(\",\")[2],f)\n",
    "def get_neg_pos_sent(type_,files,path):\n",
    "    return [get_sentence_out(path+n) for n in extract_names(files,type_)]\n",
    "def load_stanford_data():\n",
    "    fpath = './cross_validation_data/vpn_filtered/'\n",
    "    files = get_all_files_from_dir(fpath)\n",
    "    \n",
    "    train_sent_neg,train_sent_pos = get_neg_pos_sent('train',files,fpath)\n",
    "    val_sent_neg,val_sent_pos = get_neg_pos_sent('dev',files,fpath)\n",
    "    test_sent_neg,test_sent_pos = get_neg_pos_sent('test',files,fpath)\n",
    "    \n",
    "    train_data = [(sent,1) for sent in train_sent_pos] + [(sent, 0) for sent in train_sent_neg]\n",
    "    dev_data = [(sent, 1) for sent in val_sent_pos] + [(sent, 0) for sent in val_sent_neg]\n",
    "    test_data = [(sent, 1) for sent in test_sent_pos] + [(sent, 0) for sent in test_sent_neg]\n",
    "    \n",
    "    random.shuffle(train_data)\n",
    "    random.shuffle(dev_data)\n",
    "    random.shuffle(test_data)\n",
    "\n",
    "    print('train:',len(train_data),'dev:',len(dev_data),'test:',len(test_data))\n",
    "    \n",
    "    word_to_ix = build_token_to_ix([s for s,_ in train_data+dev_data+test_data])\n",
    "    label_to_ix = {0:0,1:1}\n",
    "    print('vocab size:',len(word_to_ix),'label size:',len(label_to_ix))\n",
    "    print('loading data done!')\n",
    "    return train_data,dev_data,test_data,word_to_ix,label_to_ix\n",
    "train_data, dev_data, test_data, word_to_ix, label_to_ix = load_stanford_data()\n",
    "EMBEDDING_DIM = 100\n",
    "HIDDEN_DIM = 100\n",
    "EPOCH = 20\n",
    "NUM_LAYERS = 2\n",
    "loss_function = nn.NLLLoss()#negative log likelihood loss \n",
    "########################################################################################\n",
    "\n",
    "\n",
    "#Define the BiLSTM class################################################################\n",
    "\n",
    "class BiLSTMClassifier(nn.Module):\n",
    "\n",
    "    def __init__(self, embedding_dim, hidden_dim, num_layers, vocab_size, label_size):\n",
    "        super(BiLSTMClassifier, self).__init__()\n",
    "        self.hidden_dim = hidden_dim\n",
    "        self.num_layers = num_layers\n",
    "        self.word_embeddings = nn.Embedding(vocab_size, embedding_dim)\n",
    "        self.lstm = nn.LSTM(embedding_dim, hidden_dim,num_layers,bidirectional=True)\n",
    "        self.hidden2label = nn.Linear(2*hidden_dim, label_size)\n",
    "        self.hidden = self.init_hidden()\n",
    "\n",
    "    def init_hidden(self):\n",
    "        # the first is the hidden h\n",
    "        # the second is the cell  c\n",
    "        return (autograd.Variable(torch.zeros(self.num_layers*2, 1, self.hidden_dim)),\n",
    "                autograd.Variable(torch.zeros(self.num_layers*2, 1, self.hidden_dim)))\n",
    "\n",
    "    def forward(self, sentence):\n",
    "        embeds = self.word_embeddings(sentence)\n",
    "        x = embeds.view(len(sentence), 1, -1)\n",
    "        lstm_out, self.hidden = self.lstm(x, self.hidden)\n",
    "        y  = self.hidden2label(lstm_out[-1])\n",
    "        log_probs = F.log_softmax(y)\n",
    "        return log_probs"
   ]
  },
  {
   "cell_type": "code",
   "execution_count": 12,
   "metadata": {
    "collapsed": false
   },
   "outputs": [],
   "source": [
    "#ok, hardcode a sentence and see what happens to it\n",
    "#train_data[0]\n",
    "#s,true_label = (u'there ought to be a directing license , so that ed burns can have his revoked . ',0)\n",
    "#s,true_label = ('this is a bad movie',0)\n",
    "#s,true_label = ('this is a good movie',1)\n",
    "#s,true_label = ('great direction but ok movie',1)\n",
    "#print s,true_label\n",
    "#sent = data_loader.prepare_sequence(s, word_to_ix)\n",
    "#label = data_loader.prepare_label(label, label_to_ix)"
   ]
  },
  {
   "cell_type": "code",
   "execution_count": 13,
   "metadata": {
    "collapsed": false
   },
   "outputs": [
    {
     "data": {
      "text/plain": [
       "['./best_models/bilstm_best_model_acc_9604.model',\n",
       " './best_models/bilstm_best_model_acc_9573.model',\n",
       " './best_models/bilstm_best_model_acc_9315.model']"
      ]
     },
     "execution_count": 13,
     "metadata": {},
     "output_type": "execute_result"
    }
   ],
   "source": [
    "# load models\n",
    "lms = {}\n",
    "for n in model_names:\n",
    "    key_name = nitrofilepath+n\n",
    "    lms[key_name]=torch.load(key_name)\n",
    "\n",
    "lms.keys()"
   ]
  },
  {
   "cell_type": "code",
   "execution_count": 14,
   "metadata": {
    "collapsed": true
   },
   "outputs": [],
   "source": [
    "def derivative_embedding(x,m):\n",
    "        loss_function = nn.NLLLoss()#negative log likelihood loss \n",
    "        lstm_out, _ = m.lstm(x, m.hidden)\n",
    "        y  = m.hidden2label(lstm_out[-1])\n",
    "        log_probs = F.log_softmax(y)\n",
    "        a =log_probs.data.max(1)[1]\n",
    "        pred_label = autograd.Variable(torch.LongTensor(a))\n",
    "        loss = loss_function(log_probs, pred_label)\n",
    "        #print loss\n",
    "        m.zero_grad()\n",
    "        loss.backward(retain_graph=True)\n",
    "        return float(x.grad.view(1,-1).norm(2,dim=1))"
   ]
  },
  {
   "cell_type": "code",
   "execution_count": 15,
   "metadata": {
    "collapsed": false
   },
   "outputs": [],
   "source": [
    "def draw_model(loded_model_states,s,label,plt):\n",
    "    decode = {0: 'Negative',1:'Positive'}\n",
    "    print s\n",
    "    string = 'true label:'+decode[label]+'\\t'+'predicted label:'\n",
    "    sent = data_loader.prepare_sequence(s, word_to_ix)\n",
    "    label = data_loader.prepare_label(label, label_to_ix)\n",
    "    # check what model predicts about this sentence \n",
    "    grads = []\n",
    "    model =BiLSTMClassifier(embedding_dim=EMBEDDING_DIM,hidden_dim=HIDDEN_DIM, num_layers = NUM_LAYERS,\n",
    "                           vocab_size=len(word_to_ix),label_size=len(label_to_ix))\n",
    "    for i in xrange(len(sent)):\n",
    "        model.load_state_dict(copy.deepcopy(loded_model_states))\n",
    "        # first, get a single embedding of a single word \n",
    "        x = autograd.Variable(torch.zeros(1,1, EMBEDDING_DIM),requires_grad=True)\n",
    "        for j in xrange(EMBEDDING_DIM):\n",
    "                x.data[0,0,j]=model.word_embeddings(sent).view(len(sent), 1, -1).data[i,0,j]\n",
    "        result = derivative_embedding(x,model)\n",
    "        grads.append(result)\n",
    "    y = s.split(\" \")[::-1]\n",
    "    y_pos = np.arange(len(y))*15\n",
    "    plt.barh(y_pos, grads[::-1],10, align='center', alpha=0.4)\n",
    "    plt.yticks(y_pos, y)\n",
    "    log_probs = model.forward(sent)\n",
    "    a =log_probs.data.max(1)[1]\n",
    "    string += decode[int(a)]\n",
    "    print string+'\\n'\n",
    "    return plt\n"
   ]
  },
  {
   "cell_type": "code",
   "execution_count": 16,
   "metadata": {
    "collapsed": false
   },
   "outputs": [],
   "source": [
    "epoch_models = sorted(lms.keys())"
   ]
  },
  {
   "cell_type": "code",
   "execution_count": 17,
   "metadata": {
    "collapsed": true
   },
   "outputs": [],
   "source": [
    "tries = [('this is a bad movie',0),('this is a good movie',1),('good direction but average movie',1)]"
   ]
  },
  {
   "cell_type": "code",
   "execution_count": 18,
   "metadata": {
    "collapsed": false
   },
   "outputs": [
    {
     "name": "stdout",
     "output_type": "stream",
     "text": [
      "Epoch1\n",
      "this is a bad movie\n",
      "true label:Negative\tpredicted label:Positive\n",
      "\n"
     ]
    },
    {
     "name": "stderr",
     "output_type": "stream",
     "text": [
      "/home/dharashah/anaconda2/lib/python2.7/site-packages/ipykernel/__main__.py:5: UserWarning: Implicit dimension choice for log_softmax has been deprecated. Change the call to include dim=X as an argument.\n",
      "/home/dharashah/anaconda2/lib/python2.7/site-packages/ipykernel/__main__.py:143: UserWarning: Implicit dimension choice for log_softmax has been deprecated. Change the call to include dim=X as an argument.\n"
     ]
    },
    {
     "data": {
      "image/png": "[encoded data removed]",
      "text/plain": [
       "<matplotlib.figure.Figure at 0x7fb36aac57d0>"
      ]
     },
     "metadata": {},
     "output_type": "display_data"
    },
    {
     "name": "stdout",
     "output_type": "stream",
     "text": [
      "Epoch2\n",
      "this is a bad movie\n",
      "true label:Negative\tpredicted label:Positive\n",
      "\n"
     ]
    },
    {
     "data": {
      "image/png": "[encoded data removed]",
      "text/plain": [
       "<matplotlib.figure.Figure at 0x7fb36af5c110>"
      ]
     },
     "metadata": {},
     "output_type": "display_data"
    },
    {
     "name": "stdout",
     "output_type": "stream",
     "text": [
      "Epoch3\n",
      "this is a bad movie\n",
      "true label:Negative\tpredicted label:Positive\n",
      "\n"
     ]
    },
    {
     "data": {
      "image/png": "[encoded data removed]",
      "text/plain": [
       "<matplotlib.figure.Figure at 0x7fb36d09b2d0>"
      ]
     },
     "metadata": {},
     "output_type": "display_data"
    },
    {
     "name": "stdout",
     "output_type": "stream",
     "text": [
      "Epoch1\n",
      "this is a good movie\n",
      "true label:Positive\tpredicted label:Positive\n",
      "\n"
     ]
    },
    {
     "data": {
      "image/png": "[encoded data removed]",
      "text/plain": [
       "<matplotlib.figure.Figure at 0x7fb36d02ca90>"
      ]
     },
     "metadata": {},
     "output_type": "display_data"
    },
    {
     "name": "stdout",
     "output_type": "stream",
     "text": [
      "Epoch2\n",
      "this is a good movie\n",
      "true label:Positive\tpredicted label:Positive\n",
      "\n"
     ]
    },
    {
     "data": {
      "image/png": "[encoded data removed]",
      "text/plain": [
       "<matplotlib.figure.Figure at 0x7fb36d001b10>"
      ]
     },
     "metadata": {},
     "output_type": "display_data"
    },
    {
     "name": "stdout",
     "output_type": "stream",
     "text": [
      "Epoch3\n",
      "this is a good movie\n",
      "true label:Positive\tpredicted label:Positive\n",
      "\n"
     ]
    },
    {
     "data": {
      "image/png": "[encoded data removed]",
      "text/plain": [
       "<matplotlib.figure.Figure at 0x7fb36d001a10>"
      ]
     },
     "metadata": {},
     "output_type": "display_data"
    },
    {
     "name": "stdout",
     "output_type": "stream",
     "text": [
      "Epoch1\n",
      "good direction but average movie\n",
      "true label:Positive\tpredicted label:Negative\n",
      "\n"
     ]
    },
    {
     "data": {
      "image/png": "[encoded data removed]",
      "text/plain": [
       "<matplotlib.figure.Figure at 0x7fb36cfb02d0>"
      ]
     },
     "metadata": {},
     "output_type": "display_data"
    },
    {
     "name": "stdout",
     "output_type": "stream",
     "text": [
      "Epoch2\n",
      "good direction but average movie\n",
      "true label:Positive\tpredicted label:Positive\n",
      "\n"
     ]
    },
    {
     "data": {
      "image/png": "[encoded data removed]",
      "text/plain": [
       "<matplotlib.figure.Figure at 0x7fb36d001410>"
      ]
     },
     "metadata": {},
     "output_type": "display_data"
    },
    {
     "name": "stdout",
     "output_type": "stream",
     "text": [
      "Epoch3\n",
      "good direction but average movie\n",
      "true label:Positive\tpredicted label:Positive\n",
      "\n"
     ]
    },
    {
     "data": {
      "image/png": "[encoded data removed]",
      "text/plain": [
       "<matplotlib.figure.Figure at 0x7fb36cf55610>"
      ]
     },
     "metadata": {},
     "output_type": "display_data"
    }
   ],
   "source": [
    "for s, true_label in tries:\n",
    "    for i,m in enumerate(epoch_models):\n",
    "        print 'Epoch'+str(i+1)\n",
    "        plt0 = draw_model(lms[m],s,true_label,plt)\n",
    "        plt0.show()"
   ]
  },
  {
   "cell_type": "code",
   "execution_count": null,
   "metadata": {
    "collapsed": true
   },
   "outputs": [],
   "source": []
  }
 ],
 "metadata": {
  "anaconda-cloud": {},
  "kernelspec": {
   "display_name": "Python [default]",
   "language": "python",
   "name": "python2"
  },
  "language_info": {
   "codemirror_mode": {
    "name": "ipython",
    "version": 2
   },
   "file_extension": ".py",
   "mimetype": "text/x-python",
   "name": "python",
   "nbconvert_exporter": "python",
   "pygments_lexer": "ipython2",
   "version": "2.7.12"
  }
 },
 "nbformat": 4,
 "nbformat_minor": 1
}
