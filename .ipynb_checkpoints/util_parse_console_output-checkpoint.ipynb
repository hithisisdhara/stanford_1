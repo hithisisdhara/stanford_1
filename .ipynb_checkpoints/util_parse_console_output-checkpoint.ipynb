{
 "cells": [
  {
   "cell_type": "code",
   "execution_count": 3,
   "metadata": {
    "collapsed": false
   },
   "outputs": [],
   "source": [
    "\n",
    "def write_clean_console(readfile,writepath):\n",
    "    def process_line(line):\n",
    "        if ',' in line:\n",
    "            t1,t2 = line.split(\",\")\n",
    "        else:\n",
    "            t1,t2 = line.split(\"train\")\n",
    "        t1 = t1.split(\":\")[-1]\n",
    "        t2 = t2[:-1].split(\":\")[-1]\n",
    "        return t1+\",\"+t2\n",
    "    \n",
    "    f = open(writepath,'a')\n",
    "    f.write('epoch,train_loss,train_acc,validation_loss,validation_acc,test_loss,test_acc\\n')\n",
    "    f.close()\n",
    "    count = 0\n",
    "    build_up = \"\"\n",
    "    f = open(readfile)\n",
    "    for line in f:\n",
    "        if 'epoch' not in line:\n",
    "            if 'train avg_loss' in line:\n",
    "                if build_up:\n",
    "                    f = open(writepath,'a')\n",
    "                    f.write(build_up[:-1]+'\\n')\n",
    "                    f.close()\n",
    "                count += 1\n",
    "                build_up = str(count)+\",\"+ process_line(line)+\",\"\n",
    "\n",
    "            if 'dev avg_loss' in line or 'test avg_loss' in line:\n",
    "                 # this is the line we want to wrie \n",
    "                    build_up+= process_line(line)+\",\"\n",
    "            #if or 'New Best Dev' in line:\n",
    "    if build_up:\n",
    "        f = open(writepath,'a')\n",
    "        f.write(build_up[:-1]+'\\n')\n",
    "        f.close()\n",
    "        print 'done!'"
   ]
  },
  {
   "cell_type": "code",
   "execution_count": 4,
   "metadata": {
    "collapsed": false
   },
   "outputs": [
    {
     "ename": "IOError",
     "evalue": "[Errno 2] No such file or directory: 'clean_concole_file.txt'",
     "output_type": "error",
     "traceback": [
      "\u001b[0;31m---------------------------------------------------------------------------\u001b[0m",
      "\u001b[0;31mIOError\u001b[0m                                   Traceback (most recent call last)",
      "\u001b[0;32m<ipython-input-4-73e10e769f64>\u001b[0m in \u001b[0;36m<module>\u001b[0;34m()\u001b[0m\n\u001b[0;32m----> 1\u001b[0;31m \u001b[0mwrite_clean_console\u001b[0m\u001b[0;34m(\u001b[0m\u001b[0;34m'clean_concole_file.txt'\u001b[0m\u001b[0;34m,\u001b[0m\u001b[0;34m'console_output.txt'\u001b[0m\u001b[0;34m)\u001b[0m\u001b[0;34m\u001b[0m\u001b[0m\n\u001b[0m",
      "\u001b[0;32m<ipython-input-3-1dff79c56709>\u001b[0m in \u001b[0;36mwrite_clean_console\u001b[0;34m(console_output_path, writepath)\u001b[0m\n\u001b[1;32m     13\u001b[0m     \u001b[0mcount\u001b[0m \u001b[0;34m=\u001b[0m \u001b[0;36m0\u001b[0m\u001b[0;34m\u001b[0m\u001b[0m\n\u001b[1;32m     14\u001b[0m     \u001b[0mbuild_up\u001b[0m \u001b[0;34m=\u001b[0m \u001b[0;34m\"\"\u001b[0m\u001b[0;34m\u001b[0m\u001b[0m\n\u001b[0;32m---> 15\u001b[0;31m     \u001b[0mf\u001b[0m \u001b[0;34m=\u001b[0m \u001b[0mopen\u001b[0m\u001b[0;34m(\u001b[0m\u001b[0mconsole_output_path\u001b[0m\u001b[0;34m)\u001b[0m\u001b[0;34m\u001b[0m\u001b[0m\n\u001b[0m\u001b[1;32m     16\u001b[0m     \u001b[0;32mfor\u001b[0m \u001b[0mline\u001b[0m \u001b[0;32min\u001b[0m \u001b[0mf\u001b[0m\u001b[0;34m:\u001b[0m\u001b[0;34m\u001b[0m\u001b[0m\n\u001b[1;32m     17\u001b[0m         \u001b[0;32mif\u001b[0m \u001b[0;34m'epoch'\u001b[0m \u001b[0;32mnot\u001b[0m \u001b[0;32min\u001b[0m \u001b[0mline\u001b[0m\u001b[0;34m:\u001b[0m\u001b[0;34m\u001b[0m\u001b[0m\n",
      "\u001b[0;31mIOError\u001b[0m: [Errno 2] No such file or directory: 'clean_concole_file.txt'"
     ]
    }
   ],
   "source": [
    "write_clean_console('console_output.txt','clean_concole_file.txt')"
   ]
  },
  {
   "cell_type": "code",
   "execution_count": null,
   "metadata": {
    "collapsed": true
   },
   "outputs": [],
   "source": []
  }
 ],
 "metadata": {
  "anaconda-cloud": {},
  "kernelspec": {
   "display_name": "Python [default]",
   "language": "python",
   "name": "python2"
  },
  "language_info": {
   "codemirror_mode": {
    "name": "ipython",
    "version": 2
   },
   "file_extension": ".py",
   "mimetype": "text/x-python",
   "name": "python",
   "nbconvert_exporter": "python",
   "pygments_lexer": "ipython2",
   "version": "2.7.12"
  }
 },
 "nbformat": 4,
 "nbformat_minor": 1
}
